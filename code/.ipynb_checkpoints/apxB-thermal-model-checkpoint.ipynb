{
 "cells": [
  {
   "cell_type": "markdown",
   "id": "fd8e9dc7",
   "metadata": {},
   "source": [
    "## This notebook plots the sensitivity analysis of the thermal model"
   ]
  },
  {
   "cell_type": "code",
   "execution_count": 62,
   "id": "06e6b186",
   "metadata": {},
   "outputs": [
    {
     "name": "stdout",
     "output_type": "stream",
     "text": [
      "%pylab is deprecated, use %matplotlib inline and import the required libraries.\n",
      "Populating the interactive namespace from numpy and matplotlib\n"
     ]
    }
   ],
   "source": [
    "%pylab notebook\n",
    "import os, sys\n",
    "sys.path.append('/Users/alexisdevitre/Documents/code/hts-irradiation')\n",
    "import pandas as pd, hts_fitting as hts, default_figure_style as dfs, hts_fitfunctions as ff\n",
    "from scipy.optimize import curve_fit\n",
    "\n",
    "directory = '/Users/alexisdevitre/Desktop/1200keV/'\n",
    "fpaths = [directory+f for f in os.listdir(directory) if f.split('.')[-1] == 'txt']\n",
    "names = ['iop', 'hKapton', 'xSensor', 'tREBCO', 'tSensor']\n",
    "\n",
    "data = pd.read_csv(fpaths[0], names=names, skiprows=5, delim_whitespace=True)\n",
    "for fpath in fpaths[1:]:\n",
    "    df = pd.read_csv(fpath, names=names, skiprows=5, delim_whitespace=True)\n",
    "    data = pd.concat([data, df], ignore_index=True)\n"
   ]
  },
  {
   "cell_type": "code",
   "execution_count": null,
   "id": "7ed9abc5",
   "metadata": {},
   "outputs": [],
   "source": [
    "xsmooth = np.linspace(0, 200, 10000)\n",
    "fig, ax = plt.subplots()\n",
    "\n",
    "x, y1, y2 = 1200*data.iop/1e3, data.tREBCO, data.tSensor\n",
    "\n",
    "cut1 = (data.hKapton == data.hKapton.unique()[0]) & (data.xSensor == 0)\n",
    "cut2 = (data.hKapton == data.hKapton.unique()[1]) & (data.xSensor == 0)\n",
    "cut3 = (data.hKapton == data.hKapton.unique()[2]) & (data.xSensor == 0)\n",
    "\n",
    "popttop, poptbot = [], []\n",
    "cuts = [cut1, cut2, cut3]\n",
    "markers = ['', 's', '']\n",
    "labels = ['Max. REBCO layer', 'Max. CX-T Sensor']\n",
    "for i, (cut, m) in enumerate(zip(cuts, markers)):\n",
    "    ec = dfs.colors_energies['1200']\n",
    "    \n",
    "    for y, fc, l in zip([y1, y2], [dfs.colors_energies['1200'], 'white'], labels):\n",
    "        \n",
    "        popt, pcov = curve_fit(ff.affine, x[cut], y[cut])\n",
    "        if i == 0:\n",
    "            poptbot.append(popt)\n",
    "        elif i == 2:\n",
    "            popttop.append(popt)\n",
    "        else:\n",
    "            ax.plot(x[cut], y[cut], linestyle='-', marker=m, markersize=4, color=ec, mec=ec, mfc=fc, label=l)\n",
    "            \n",
    "print(poptbot, popttop)\n",
    "\n",
    "ax.fill_between(x=xsmooth, y1=ff.affine(xsmooth, *popttop[0]), y2=ff.affine(xsmooth, *poptbot[0]), alpha=.5, color=ec)         \n",
    "ax.fill_between(x=xsmooth, y1=ff.affine(xsmooth, *popttop[1]), y2=ff.affine(xsmooth, *poptbot[1]), alpha=.5, color=ec)         \n",
    "\n",
    "ax.set_ylim(0, 35)\n",
    "ax.set_xlim(0, 150)\n",
    "yticks = [0.01, 0.1, 1, 10, 50]\n",
    "#ax.set_yticks(yticks)\n",
    "#ax.set_yticklabels([str(tick) for tick in yticks])\n",
    "#ax.set_ylim(0.01, 50)\n",
    "ax.set_title(r'(a) Sensitivity to $\\rho_{tape/target}$')\n",
    "ax.set_ylabel('Temperature [K]')\n",
    "ax.set_xlabel('Ion beam power [mW]')\n",
    "ax.legend(loc='upper left')\n",
    "fig.tight_layout()"
   ]
  }
 ],
 "metadata": {
  "kernelspec": {
   "display_name": "Python 3 (ipykernel)",
   "language": "python",
   "name": "python3"
  },
  "language_info": {
   "codemirror_mode": {
    "name": "ipython",
    "version": 3
   },
   "file_extension": ".py",
   "mimetype": "text/x-python",
   "name": "python",
   "nbconvert_exporter": "python",
   "pygments_lexer": "ipython3",
   "version": "3.11.5"
  }
 },
 "nbformat": 4,
 "nbformat_minor": 5
}
